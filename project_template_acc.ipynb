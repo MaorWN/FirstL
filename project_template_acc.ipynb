{
 "cells": [
  {
   "cell_type": "markdown",
   "id": "2b472d62-ccbc-47a9-9506-5fd47bf1e90e",
   "metadata": {
    "jp-MarkdownHeadingCollapsed": true
   },
   "source": [
    "<div dir=\"rtl\">\n",
    "    \n",
    "### מלאו את הקובץ ושלחו לרז\n",
    "\n",
    "   - **ניתן למלא באנגלית או עברית**\n",
    "\n",
    "\n",
    "     \n",
    "###   מלאו את כל הסעיפים. הניקוד ינתן באופן הבא:\n",
    "- **שם הפרויקט (3-4 מילים) - 5 נקודות** \n",
    "- **שמות מלאים של כל חברי הצוות, ללא ת.ז - 5 נקודות**\n",
    "- **תיאור הפרויקט (3-4 משפטים) - 10 נקודות**\n",
    "- **קישור למקור ממנו הורדתם את הנתונים - 10 נקודות**\n",
    "- **קריאת הקובץ מהגיטהאב שלכם - 10 נקודות**\n",
    "- **הסבר על מקור הנתונים - 10 נקודות**\n",
    "- **תיאור קצר של הדאטה בעזרת הפקודות שנלמדו בקורס - 20 נקודות**\n",
    "- **שלוש שאלות ראשוניות של דברים שהיה מעניין אתכם להוציא מהקובץ - 30 נקודות**\n",
    "#### בהצלחה !\n",
    "</div>"
   ]
  },
  {
   "cell_type": "markdown",
   "id": "a275784e-8460-4468-98f0-e7755b6986f7",
   "metadata": {},
   "source": [
    "# Project Name: `ניתוח תאונות הדרכים בישראל עם נפגעים קל בשנים 2021-2023`\n"
   ]
  },
  {
   "cell_type": "markdown",
   "id": "6921219d-f822-482a-8986-760fb55fc518",
   "metadata": {},
   "source": [
    "### Project team members: \n",
    "- `ויסמן מאור`\n",
    "- `אלישיב סונר`\n",
    "- `יותם יפרח`"
   ]
  },
  {
   "cell_type": "markdown",
   "id": "9b1b8607-f4b8-4bf0-b524-1a7e7d3200f6",
   "metadata": {},
   "source": [
    "### Project number: <insert here>\n",
    "`10 (https://shorturl.at/b39GX)`"
   ]
  },
  {
   "cell_type": "markdown",
   "id": "1935e972-e267-49ee-b637-abe0202cca05",
   "metadata": {},
   "source": [
    "### Project description: \n",
    "2021-2023. \n",
    "המטרה היא להבין את המגמות והגורמים העיקריים לתאונות מסוג זה, תוך התמקדות במאפיינים גיאוגרפיים, זמניים וסוגי רכבים מעורבים. \n",
    "הניתוח יאפשר להפיק תובנות שיכולות לתרום לשיפור אמצעי הבטיחות והפחתת תאונות עתידיות."
   ]
  },
  {
   "cell_type": "markdown",
   "id": "b043a0ae-6e42-4120-8997-5724eb01acf1",
   "metadata": {},
   "source": [
    "### Link to the data: \n",
    "[הלישכה המרכזית לסטטיסטיקה](https://www.cbs.gov.il/he/publications/Pages/2015/%D7%AA%D7%95%D7%A6%D7%A8%D7%99-Public-Use-Files-PUF-%D7%A0%D7%AA%D7%95%D7%A0%D7%99-%D7%A4%D7%A8%D7%98-%D7%91%D7%9C%D7%AA%D7%99-%D7%9E%D7%96%D7%95%D7%94%D7%99%D7%9D-%D7%9C%D7%9E%D7%97%D7%A7%D7%A8.aspx)\n",
    "\n",
    "https://raw.githubusercontent.com/MaorWN/FirstL/main/H20211163AccData.csv נתוני תאונות דרכים לשנת 2021\n",
    "https://raw.githubusercontent.com/MaorWN/FirstL/main/H20221162AccData.csv נתוני תאונות דרכים לשנת 2022\n",
    "https://raw.githubusercontent.com/MaorWN/FirstL/main/H20231161AccData.csv נתוני תאונות דרכים לשנת 2023\n",
    "\n",
    "https://raw.githubusercontent.com/MaorWN/FirstL/main/accdata.csv"
   ]
  },
  {
   "cell_type": "markdown",
   "id": "5a50c015-5907-45c3-8aef-bacaf1c00c6a",
   "metadata": {},
   "source": [
    "### Explain the data source:\n",
    "##### הנתונים נאספו מהלמ\"ס לאחר הגשת טופס בקשה הכולל הסבר על מטרת השימוש בו.\n",
    "##### לאחר קבלת האישור התקבלו קישורים נפרדים להורדת הנתונים עבור כל שנה.\n",
    "##### בנוסף לנתונים התקבל גם קובץ עזר המסביר את הערכים המופיעים בקבצי הנתונים שהתקבלו (codebook)\n",
    "##### הנתונים מכילים רק את התאונות שהוגדרו כתאונה עם **נפגעים קל** ולכן התובנות שנגיע אליהן הן רק על הבסיס הזה."
   ]
  },
  {
   "cell_type": "markdown",
   "id": "a66dd24f-ed31-42b8-b6fe-425a4a87e535",
   "metadata": {},
   "source": [
    "----"
   ]
  },
  {
   "cell_type": "markdown",
   "id": "40924565-a0c6-4f91-b4c1-57816a816cbe",
   "metadata": {},
   "source": [
    "#### Read you file from Github:"
   ]
  },
  {
   "cell_type": "code",
   "execution_count": 9,
   "id": "5dbc7e4b-6bbf-40f0-825d-30b1eb4b6ac6",
   "metadata": {},
   "outputs": [],
   "source": [
    "import pandas as pd\n",
    "\n",
    "url_list = [\n",
    "    r'https://raw.githubusercontent.com/MaorWN/FirstL/main/H20211163AccData.csv',\n",
    "    r'https://raw.githubusercontent.com/MaorWN/FirstL/main/H20221162AccData.csv',\n",
    "    r'https://raw.githubusercontent.com/MaorWN/FirstL/main/H20231161AccData.csv'\n",
    "]\n",
    "\n",
    "# קריאת כל הקבצים\n",
    "accdata = pd.concat([pd.read_csv(url, encoding='cp1255') for url in url_list], ignore_index=True)\n",
    "\n",
    "# בקוד זה יש המרה של הערכים הנמצאים בטבלה הראשית בטבלת ההמרה הנמצאת בקובץ קודבוק ולאחר מכן נוכל לעבוד עם \n",
    "# accdata לכל אורך הפרויקט\n",
    "\n",
    "codebook = pd.read_csv(\"https://raw.githubusercontent.com/MaorWN/FirstL/main/Codebook.csv\", encoding=\"cp1255\")\n",
    "\n",
    "# ניקוי רווחים משמות העמודות\n",
    "codebook.columns = codebook.columns.str.strip()\n",
    "\n",
    "# טיפול בעמודות מתוך הקודבוק\n",
    "for col_name in codebook['שם משתנה'].dropna().unique():\n",
    "    if col_name in accdata.columns:\n",
    "        relevant_rows = codebook[codebook['שם משתנה'] == col_name]\n",
    "        mapping_df = relevant_rows.drop_duplicates(subset='קוד')\n",
    "        mapping = dict(zip(mapping_df['קוד'], mapping_df['מאפיינים']))\n",
    "        \n",
    "        # החלפת הערכים בטבלה הראשית\n",
    "        accdata[col_name] = accdata[col_name].map(mapping).fillna(accdata[col_name])\n",
    "\n",
    "\n",
    "# accdata.info()\n",
    "\n"
   ]
  },
  {
   "cell_type": "markdown",
   "id": "f2a78930-bf7b-4d50-902b-c35a91b19ab0",
   "metadata": {},
   "source": [
    "#### Describe the data\n",
    "* How many rows?\n",
    "* How many columns?\n",
    "* How many numeric columns? (not including numerical identifiers - numbers that uniquely define the row)\n",
    "* How many categorical columns? (not including string identifiers -  values that uniquely define the row)"
   ]
  },
  {
   "cell_type": "code",
   "execution_count": 4,
   "id": "318da777-a227-4189-a7ac-164c840e8027",
   "metadata": {},
   "outputs": [
    {
     "name": "stdout",
     "output_type": "stream",
     "text": [
      "Number of rows: 129486\n"
     ]
    }
   ],
   "source": [
    "num_rows = accdata.shape[0]\n",
    "print(f\"Number of rows: {num_rows}\")"
   ]
  },
  {
   "cell_type": "code",
   "execution_count": 5,
   "id": "c92f0aeb-7103-4225-8b74-f4545328a145",
   "metadata": {},
   "outputs": [
    {
     "name": "stdout",
     "output_type": "stream",
     "text": [
      "Number of columns: 49\n"
     ]
    }
   ],
   "source": [
    "num_columns = accdata.shape[1]\n",
    "print(f\"Number of columns: {num_columns}\")"
   ]
  },
  {
   "cell_type": "code",
   "execution_count": 5,
   "id": "bb13e178-dbc0-45b8-8a4d-848c44234e03",
   "metadata": {},
   "outputs": [
    {
     "name": "stdout",
     "output_type": "stream",
     "text": [
      "Number of numeric columns (excluding unique identifiers): 21\n",
      "Number of categorical columns (excluding string identifiers): 27\n"
     ]
    }
   ],
   "source": [
    "# חישוב עמודות מספריות\n",
    "numeric_columns = [col for col in accdata.columns if pd.api.types.is_numeric_dtype(accdata[col])]\n",
    "\n",
    "# חישוב עמודות קטגוריאליות (מעודכן כדי לשלול את האזהרה)\n",
    "categorical_columns = [col for col in accdata.columns if isinstance(accdata[col].dtype, pd.CategoricalDtype) or accdata[col].dtype == 'object']\n",
    "\n",
    "# נשלול את עמודות המזהים הייחודיים (כאשר כל הערכים בעמודה ייחודיים)\n",
    "non_unique_numeric_columns = [col for col in numeric_columns if accdata[col].nunique() != len(accdata)]\n",
    "\n",
    "non_unique_categorical_columns = [col for col in categorical_columns if accdata[col].nunique() != len(accdata)]\n",
    "\n",
    "# הצגת התוצאות\n",
    "print(f\"Number of numeric columns (excluding unique identifiers): {len(non_unique_numeric_columns)}\")\n",
    "print(f\"Number of categorical columns (excluding string identifiers): {len(non_unique_categorical_columns)}\")"
   ]
  },
  {
   "cell_type": "markdown",
   "id": "67cbfe4e-1a60-4460-8cc1-e98ea9813fa8",
   "metadata": {},
   "source": [
    "#### Write three questions you would like to answer using this data"
   ]
  },
  {
   "cell_type": "markdown",
   "id": "4470f031-7d4f-4814-8f36-549be16c2eea",
   "metadata": {},
   "source": [
    "1. `מה הן סוגי התאונות הנפוצות ביותר על פני שלושת השנים ומתי הן קורות`"
   ]
  },
  {
   "cell_type": "markdown",
   "id": "3f76efd8-a896-4758-a774-811abd08e9ab",
   "metadata": {},
   "source": [
    "2. `האם יש שינוי במהלך שלושת השנים הנסקרות בסוגי התאונות`"
   ]
  },
  {
   "cell_type": "markdown",
   "id": "b7972801-dab3-4405-9ac9-c025162d858d",
   "metadata": {},
   "source": [
    "3. ` באילו מקומות יש הכי הרבה תאונות, הנתונים כאן מתייחסים לתאונות בכל רחבי הארץ, האם יש כאן מחזוריות שניתן לחזות מראש שייתכן שיהיו שם עוד תאונות וניתן יהיה למנוע אותן?`"
   ]
  },
  {
   "cell_type": "code",
   "execution_count": null,
   "id": "0aad3010-77f6-444d-ae08-7c83545c8da3",
   "metadata": {},
   "outputs": [],
   "source": []
  },
  {
   "cell_type": "code",
   "execution_count": null,
   "id": "da224a53-c3a3-443f-bdeb-acce93b0f5a0",
   "metadata": {},
   "outputs": [],
   "source": []
  },
  {
   "cell_type": "markdown",
   "id": "dc311a43-0865-4458-acb9-e5bb00769069",
   "metadata": {},
   "source": [
    "<div style=\"background-color: #f0f0f0; padding: 10px; border-radius: 5px;\">\n",
    "  <span style=\"color: red;\"><strong>— Do not proceed beyond this point. This is for the next steps, do not fill in —</strong></span>\n",
    "</div>\n"
   ]
  },
  {
   "cell_type": "markdown",
   "id": "37abd2f7-3901-41d5-bfb3-e30d1b79dd34",
   "metadata": {},
   "source": [
    "---\n",
    "### <span style=\"color:green\"> Observation 1:</span>\n",
    "\n",
    ">\n",
    "> \n",
    ">\n",
    "> \n",
    "\n",
    "\n",
    "---"
   ]
  },
  {
   "cell_type": "code",
   "execution_count": null,
   "id": "786aab2d-6e34-4d95-937d-1244062116de",
   "metadata": {},
   "outputs": [],
   "source": []
  },
  {
   "cell_type": "code",
   "execution_count": null,
   "id": "4b6a7501-4d00-44bd-a819-685c14950060",
   "metadata": {},
   "outputs": [],
   "source": []
  },
  {
   "cell_type": "code",
   "execution_count": null,
   "id": "8dca1901-eaaf-4c56-b2a0-c071dfa05a44",
   "metadata": {},
   "outputs": [],
   "source": []
  },
  {
   "cell_type": "markdown",
   "id": "dabb806f-f18c-419a-b144-1e60ec5ce800",
   "metadata": {},
   "source": [
    "---\n",
    "### <span style=\"color:green\"> Observation 2:</span>\n",
    "\n",
    ">\n",
    "> \n",
    ">\n",
    "> \n",
    "\n",
    "\n",
    "---"
   ]
  },
  {
   "cell_type": "code",
   "execution_count": null,
   "id": "84301767-29e7-4c06-8ffa-e13d6a814d03",
   "metadata": {},
   "outputs": [],
   "source": []
  },
  {
   "cell_type": "code",
   "execution_count": null,
   "id": "6df3dfb1-5b21-4ad9-a524-b2978a2480d8",
   "metadata": {},
   "outputs": [],
   "source": []
  },
  {
   "cell_type": "code",
   "execution_count": null,
   "id": "34a9ee94-3b65-4b0a-a7f4-11a0ef4e700b",
   "metadata": {},
   "outputs": [],
   "source": []
  },
  {
   "cell_type": "markdown",
   "id": "d6c0aad1-ba36-496c-911d-6047a95c2b2d",
   "metadata": {},
   "source": [
    "---\n",
    "### <span style=\"color:green\"> Observation 3:</span>\n",
    "\n",
    ">\n",
    "> \n",
    ">\n",
    "> \n",
    "\n",
    "\n",
    "---"
   ]
  },
  {
   "cell_type": "code",
   "execution_count": null,
   "id": "d95ccb40-2e2b-470b-9c21-14cac0ff759c",
   "metadata": {},
   "outputs": [],
   "source": []
  },
  {
   "cell_type": "code",
   "execution_count": null,
   "id": "eb14a9f4-f33d-43f2-9e33-713254c2b122",
   "metadata": {},
   "outputs": [],
   "source": []
  },
  {
   "cell_type": "code",
   "execution_count": null,
   "id": "35655047-ecaa-4051-bbcd-c870764e80d0",
   "metadata": {},
   "outputs": [],
   "source": []
  },
  {
   "cell_type": "markdown",
   "id": "9b3f378b-0c61-4edf-9b36-a1cf55c3a5b5",
   "metadata": {},
   "source": [
    "---\n",
    "### <span style=\"color:green\"> Summary</span>\n",
    "\n",
    "> Anything you'd like to say - your conclusions, summary, how hard you worked etc.\n",
    "> \n",
    ">    \n",
    ">   \n",
    "   \n",
    "\n",
    "---"
   ]
  },
  {
   "cell_type": "code",
   "execution_count": null,
   "id": "9abf221a-1f1f-411f-a8f9-ad2372497eef",
   "metadata": {},
   "outputs": [],
   "source": []
  }
 ],
 "metadata": {
  "kernelspec": {
   "display_name": "Python 3 (ipykernel)",
   "language": "python",
   "name": "python3"
  },
  "language_info": {
   "codemirror_mode": {
    "name": "ipython",
    "version": 3
   },
   "file_extension": ".py",
   "mimetype": "text/x-python",
   "name": "python",
   "nbconvert_exporter": "python",
   "pygments_lexer": "ipython3",
   "version": "3.12.7"
  }
 },
 "nbformat": 4,
 "nbformat_minor": 5
}
