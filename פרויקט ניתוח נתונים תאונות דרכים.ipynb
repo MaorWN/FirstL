{
 "cells": [
  {
   "cell_type": "code",
   "execution_count": 8,
   "id": "4150c043-2026-4911-b77f-c03f8dcb050e",
   "metadata": {},
   "outputs": [],
   "source": [
    "#הקוד הזה מבצע \n",
    "import pandas as pd\n",
    "\n",
    "url_list = [\n",
    "    r'https://raw.githubusercontent.com/MaorWN/FirstL/main/H20211163AccData.csv',\n",
    "    r'https://raw.githubusercontent.com/MaorWN/FirstL/main/H20221162AccData.csv',\n",
    "    r'https://raw.githubusercontent.com/MaorWN/FirstL/main/H20231161AccData.csv'\n",
    "]\n",
    "\n",
    "# קריאת כל הקבצים ואיחודם בלולאה קצרה יותר\n",
    "super_df = pd.concat([pd.read_csv(url, encoding='latin1') for url in url_list], ignore_index=True)\n",
    "super_df.to_csv(\"accdata.csv\", index=False, encoding=\"utf-8-sig\")\n",
    "\n"
   ]
  },
  {
   "cell_type": "code",
   "execution_count": null,
   "id": "b54f5360-4e41-47e2-ac86-80371733b2b0",
   "metadata": {},
   "outputs": [],
   "source": []
  }
 ],
 "metadata": {
  "kernelspec": {
   "display_name": "Python [conda env:base] *",
   "language": "python",
   "name": "conda-base-py"
  },
  "language_info": {
   "codemirror_mode": {
    "name": "ipython",
    "version": 3
   },
   "file_extension": ".py",
   "mimetype": "text/x-python",
   "name": "python",
   "nbconvert_exporter": "python",
   "pygments_lexer": "ipython3",
   "version": "3.12.7"
  }
 },
 "nbformat": 4,
 "nbformat_minor": 5
}
